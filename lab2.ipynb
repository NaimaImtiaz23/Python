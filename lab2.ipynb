{
  "cells": [
    {
      "cell_type": "markdown",
      "id": "demonstrated-saturn",
      "metadata": {
        "id": "demonstrated-saturn"
      },
      "source": [
        "# Laboratorio 2\n",
        "\n",
        "\n",
        "\n",
        "<div class = \"slide-w\">\n",
        "<div class = \"video-container\">\n",
        "<iframe src=\"https://slides.com/ra_fa/labcdpcide/fullscreen#/2\" width=\"100%\" height=\"650px\" scrolling=\"no\" frameborder=\"0\" webkitallowfullscreen mozallowfullscreen allowfullscreen></iframe>\n",
        "    </div>\n",
        "</div>\n"
      ]
    },
    {
      "cell_type": "code",
      "execution_count": 7,
      "id": "educated-caribbean",
      "metadata": {
        "colab": {
          "base_uri": "https://localhost:8080/"
        },
        "id": "educated-caribbean",
        "outputId": "72d3c170-b1cd-462c-ed08-0eabaefcb23c"
      },
      "outputs": [
        {
          "output_type": "stream",
          "name": "stdout",
          "text": [
            "Original list : [1, 2, 3, 4, 5, 6, 7, 8, 9, 10]\n",
            "Sum: 55\n",
            "Maximum: 10\n",
            "Minimum: 1\n",
            "Updated list: [1, 2, 3, 4, 5, 7, 8, 9, 10, 11]\n",
            "Ascending: [1, 2, 3, 4, 5, 7, 8, 9, 10, 11]\n",
            "Descending: [11, 10, 9, 8, 7, 5, 4, 3, 2, 1]\n"
          ]
        }
      ],
      "source": [
        "#LIST\n",
        "#Create a list of 10 integers\n",
        "\n",
        "Number = [1,2,3,4,5,6,7,8,9,10]\n",
        "print('Original list :', Number)\n",
        "\n",
        "#sum, max and min\n",
        "print('Sum:', sum(Number))\n",
        "print('Maximum:', max(Number))\n",
        "print('Minimum:', min(Number))\n",
        "\n",
        "#add and remove elements from list\n",
        "Number.append(11)\n",
        "Number.remove(6)\n",
        "print('Updated list:', Number)\n",
        "\n",
        "#sorting in ascending and descending order\n",
        "print('Ascending:', sorted(Number))\n",
        "print('Descending:',sorted(Number, reverse=True))"
      ]
    },
    {
      "cell_type": "code",
      "source": [
        "#TUPLE\n",
        "#tuple with 5 strings\n",
        "\n",
        "food = ('biryani', 'pulao', 'korma', 'pasta','pizza')\n",
        "print('Food I like is:', food)\n",
        "\n",
        "#access and print\n",
        "print('second element is:', food[1])\n",
        "print('last element is:', food[-1])\n",
        "\n",
        "\n",
        "#converting tuple into list\n",
        "food_list = list(food)\n",
        "print('Tuple converted to a list:', food_list)\n",
        "\n",
        "#modifying list\n",
        "food_list[3] = 'cheese cake'\n",
        "print('modified list is', food_list)\n",
        "\n"
      ],
      "metadata": {
        "colab": {
          "base_uri": "https://localhost:8080/"
        },
        "id": "eb82C2rhDRir",
        "outputId": "fa375586-da39-4e43-9f26-531ef29a5d84"
      },
      "id": "eb82C2rhDRir",
      "execution_count": 15,
      "outputs": [
        {
          "output_type": "stream",
          "name": "stdout",
          "text": [
            "Food I like is: ('biryani', 'pulao', 'korma', 'pasta', 'pizza')\n",
            "second element is: pulao\n",
            "last element is: pizza\n",
            "Tuple converted to a list: ['biryani', 'pulao', 'korma', 'pasta', 'pizza']\n",
            "modified list is ['biryani', 'pulao', 'korma', 'cheese cake', 'pizza']\n"
          ]
        }
      ]
    },
    {
      "cell_type": "code",
      "metadata": {
        "id": "a81492f6",
        "outputId": "0afb7ae2-767f-463f-a235-f01b561c3fc0",
        "colab": {
          "base_uri": "https://localhost:8080/"
        }
      },
      "source": [
        "#SETs\n",
        "\n",
        "set1 = {1,2,3}\n",
        "set2 = {7,8,9}\n",
        "\n",
        "#union, intersection, difference\n",
        "print('Union:', set1.union(set2))\n",
        "print('Intersection:', set1.intersection(set2))\n",
        "print('Difference:', set1.difference(set2))\n",
        "\n"
      ],
      "id": "a81492f6",
      "execution_count": 16,
      "outputs": [
        {
          "output_type": "stream",
          "name": "stdout",
          "text": [
            "Union: {1, 2, 3, 7, 8, 9}\n",
            "Intersection: set()\n",
            "Difference: {1, 2, 3}\n"
          ]
        }
      ]
    },
    {
      "cell_type": "code",
      "source": [
        "#DICTIONARY\n",
        "\n",
        "Stars = {'kim taehyung':100, 'Jeon jungkook':99.999, 'Cha eunwoo': 99.99,'Rowoon':99.9 }\n",
        "\n",
        "#print keys and values\n",
        "print('Keys:',Stars.keys())\n",
        "print('Values:',Stars.values())\n",
        "\n",
        "#update value\n",
        "Stars['Jeon jungkook']= 100\n",
        "print('updated dictionary:', Stars)"
      ],
      "metadata": {
        "id": "wSKYRu_5JWqC",
        "outputId": "b687374d-7051-4aa4-a3dd-5f5bded170e8",
        "colab": {
          "base_uri": "https://localhost:8080/"
        }
      },
      "id": "wSKYRu_5JWqC",
      "execution_count": 19,
      "outputs": [
        {
          "output_type": "stream",
          "name": "stdout",
          "text": [
            "Keys: dict_keys(['kim taehyung', 'Jeon jungkook', 'Cha eunwoo', 'Rowoon'])\n",
            "Values: dict_values([100, 99.999, 99.99, 99.9])\n",
            "updated dictionary: {'kim taehyung': 100, 'Jeon jungkook': 100, 'Cha eunwoo': 99.99, 'Rowoon': 99.9}\n"
          ]
        }
      ]
    }
  ],
  "metadata": {
    "kernelspec": {
      "display_name": "Python 3",
      "language": "python",
      "name": "python3"
    },
    "language_info": {
      "codemirror_mode": {
        "name": "ipython",
        "version": 3
      },
      "file_extension": ".py",
      "mimetype": "text/x-python",
      "name": "python",
      "nbconvert_exporter": "python",
      "pygments_lexer": "ipython3",
      "version": "3.7.9"
    },
    "colab": {
      "provenance": []
    }
  },
  "nbformat": 4,
  "nbformat_minor": 5
}